{
 "cells": [
  {
   "cell_type": "markdown",
   "id": "1761ed2d",
   "metadata": {},
   "source": [
    "### Закрепление в работе со строками"
   ]
  },
  {
   "cell_type": "markdown",
   "id": "d93b0696",
   "metadata": {},
   "source": [
    "Делать задание можно сразу в этом же документе. Готовый ноутбук нужно добавить в репозиторий python-course на GitHub"
   ]
  },
  {
   "cell_type": "markdown",
   "id": "91d95977",
   "metadata": {},
   "source": [
    "**Task 1.**\n",
    "В строке a = \"We are going to pick berries\" заменить первые 4 пробела на запятые. "
   ]
  },
  {
   "cell_type": "code",
   "execution_count": 48,
   "id": "9e9d336d",
   "metadata": {},
   "outputs": [
    {
     "data": {
      "text/plain": [
       "'We,are,going,to,pick berries'"
      ]
     },
     "execution_count": 48,
     "metadata": {},
     "output_type": "execute_result"
    }
   ],
   "source": [
    "a = \"We are going to pick berries\"\n",
    "a.replace(' ', ',', 4)\n"
   ]
  },
  {
   "cell_type": "code",
   "execution_count": null,
   "id": "c1e1e007",
   "metadata": {
    "scrolled": false
   },
   "outputs": [],
   "source": []
  },
  {
   "cell_type": "markdown",
   "id": "9512f0d2",
   "metadata": {},
   "source": [
    "**Task 2.** Считайте строку **a** и запишите в переменную **b** строку, состоящую только из символов строки **a** с нечётными индексами"
   ]
  },
  {
   "cell_type": "code",
   "execution_count": 46,
   "id": "9d6d1394",
   "metadata": {},
   "outputs": [
    {
     "name": "stdout",
     "output_type": "stream",
     "text": [
      "Введите текст 123456789\n",
      "13579\n"
     ]
    }
   ],
   "source": [
    "a = input(\"Введите текст \")\n",
    "b = a[0:100:2]\n",
    "print(b)"
   ]
  },
  {
   "cell_type": "markdown",
   "id": "8d653f15",
   "metadata": {},
   "source": [
    "**Task 3*.** Превратить строку a = \"'Hi' 'good' 'man'\" в список слов с одними ковычками."
   ]
  },
  {
   "cell_type": "code",
   "execution_count": 75,
   "id": "0f5eb04a",
   "metadata": {},
   "outputs": [
    {
     "data": {
      "text/plain": [
       "['Hi good man']"
      ]
     },
     "execution_count": 75,
     "metadata": {},
     "output_type": "execute_result"
    }
   ],
   "source": [
    "a = \"'Hi' 'good' 'man'\"\n",
    "a = list()\n",
    "a.append('Hi good man')\n",
    "a\n",
    "\n"
   ]
  },
  {
   "cell_type": "code",
   "execution_count": null,
   "id": "0b5b019f",
   "metadata": {},
   "outputs": [],
   "source": []
  },
  {
   "cell_type": "markdown",
   "id": "504d496f",
   "metadata": {},
   "source": [
    "**Task 4.** Вернуть 3 средних символа строки a = 'Pronunciation'"
   ]
  },
  {
   "cell_type": "code",
   "execution_count": 85,
   "id": "7499b382",
   "metadata": {},
   "outputs": [
    {
     "data": {
      "text/plain": [
       "'unc'"
      ]
     },
     "execution_count": 85,
     "metadata": {},
     "output_type": "execute_result"
    }
   ],
   "source": [
    "a = 'Pronunciation'\n",
    "dlina = len(a)\n",
    "dlina = a[4:7:1]\n",
    "dlina"
   ]
  },
  {
   "cell_type": "code",
   "execution_count": null,
   "id": "8fbe2e5a",
   "metadata": {},
   "outputs": [],
   "source": []
  },
  {
   "cell_type": "markdown",
   "id": "0ad6823e",
   "metadata": {},
   "source": [
    "**Task 5.** Подсчитать все строчные и прописные буквы, цифры и специальные символы из заданной строки.(в выводе должно быть 4 значения: верхний рег., нижний рег., цифра, символ)"
   ]
  },
  {
   "cell_type": "code",
   "execution_count": 52,
   "id": "74b3ffc6",
   "metadata": {},
   "outputs": [
    {
     "data": {
      "text/plain": [
       "False"
      ]
     },
     "execution_count": 52,
     "metadata": {},
     "output_type": "execute_result"
    }
   ],
   "source": [
    "k = \"T&*Yif2k6b@\".isalnum()\n",
    "k"
   ]
  },
  {
   "cell_type": "code",
   "execution_count": null,
   "id": "2e6f620e",
   "metadata": {},
   "outputs": [],
   "source": []
  },
  {
   "cell_type": "markdown",
   "id": "181f7290",
   "metadata": {},
   "source": [
    "**Task 6.** Найти индекс последней подстроки \"сat\" в строке k."
   ]
  },
  {
   "cell_type": "code",
   "execution_count": 136,
   "id": "8637a802",
   "metadata": {},
   "outputs": [
    {
     "name": "stdout",
     "output_type": "stream",
     "text": [
      "19\n"
     ]
    }
   ],
   "source": [
    "k = 'We have a cat. Our cat likes salt.'\n",
    "print(k.find('cat', 11))\n"
   ]
  },
  {
   "cell_type": "code",
   "execution_count": null,
   "id": "2b248e37",
   "metadata": {},
   "outputs": [],
   "source": []
  },
  {
   "cell_type": "markdown",
   "id": "61eb9cd3",
   "metadata": {},
   "source": [
    "**Task 7.** Считываемая строка - ваше Имя Фамилия Отчество. Вывод: строка содержащая сокращение имени и отчества до первой буквы, а фамилия полностью. (Пример: Алексей Олегович Летейкин -> А.О.Летейкин)"
   ]
  },
  {
   "cell_type": "code",
   "execution_count": 1,
   "id": "1cf2e946",
   "metadata": {},
   "outputs": [
    {
     "name": "stdout",
     "output_type": "stream",
     "text": [
      "введите Имя Иван\n",
      "Введите Фамилию Иванов\n",
      "Введите Отчество Иванович\n",
      "И.И.Иванов\n"
     ]
    }
   ],
   "source": [
    "a = input(\"введите Имя \")\n",
    "b = input(\"Введите Фамилию \")\n",
    "c = input(\"Введите Отчество \")\n",
    "x = a[0].title()\n",
    "n = c[0].title()\n",
    "\n",
    "print(x+\".\"+n+\".\"+b.title())"
   ]
  },
  {
   "cell_type": "code",
   "execution_count": null,
   "id": "8bd79769",
   "metadata": {},
   "outputs": [],
   "source": []
  },
  {
   "cell_type": "markdown",
   "id": "cc048b67",
   "metadata": {},
   "source": [
    "**Task 8.** Изменить заданную строку так, что бы в ней поменялись местами первый и последний символы."
   ]
  },
  {
   "cell_type": "code",
   "execution_count": 5,
   "id": "e1b13952",
   "metadata": {},
   "outputs": [
    {
     "data": {
      "text/plain": [
       "'yreendag'"
      ]
     },
     "execution_count": 5,
     "metadata": {},
     "output_type": "execute_result"
    }
   ],
   "source": [
    "r = 'greenday'\n",
    "b = r.replace(\"g\",\"*\").replace(\"y\", \"g\").replace(\"*\", \"y\")\n",
    "b"
   ]
  },
  {
   "cell_type": "code",
   "execution_count": null,
   "id": "a8e9741b",
   "metadata": {},
   "outputs": [],
   "source": []
  },
  {
   "cell_type": "markdown",
   "id": "52aee54e",
   "metadata": {},
   "source": [
    "**Task 9.** Создать новую строку содержащую 5 копий последних двух символов исходной строки.  \n",
    "P.S. постарайтесь написать решение в одну строку"
   ]
  },
  {
   "cell_type": "code",
   "execution_count": 40,
   "id": "aa2541cb",
   "metadata": {},
   "outputs": [
    {
     "name": "stdout",
     "output_type": "stream",
     "text": [
      "ryryryryry\n"
     ]
    }
   ],
   "source": [
    "h = 'TrueStory'\n",
    "b = h[7:]*5\n",
    "print(b)\n"
   ]
  },
  {
   "cell_type": "code",
   "execution_count": null,
   "id": "bd548daf",
   "metadata": {},
   "outputs": [],
   "source": []
  },
  {
   "cell_type": "markdown",
   "id": "37d5d2a8",
   "metadata": {},
   "source": [
    "**Task 10*.** Напишите функцию для переворота слов в строке. ( Пример: I am sitting on a chair. -> chair. a on sitting am I)  \n",
    "P.S. Обратите внимание на метод join в работе с string."
   ]
  },
  {
   "cell_type": "code",
   "execution_count": 48,
   "id": "a595e1fd",
   "metadata": {},
   "outputs": [
    {
     "name": "stdout",
     "output_type": "stream",
     "text": [
      "window. the on stands flower The\n"
     ]
    }
   ],
   "source": [
    "a = \"The flower stands on the window.\"\n",
    "b = a.split(\" \")\n",
    "print(' '.join(reversed(b)))"
   ]
  },
  {
   "cell_type": "code",
   "execution_count": null,
   "id": "d2fe2212",
   "metadata": {},
   "outputs": [],
   "source": []
  },
  {
   "cell_type": "code",
   "execution_count": null,
   "id": "75108d01",
   "metadata": {},
   "outputs": [],
   "source": []
  },
  {
   "cell_type": "code",
   "execution_count": null,
   "id": "1fa08d50",
   "metadata": {},
   "outputs": [],
   "source": []
  },
  {
   "cell_type": "markdown",
   "id": "d10df9fd",
   "metadata": {},
   "source": [
    "##### "
   ]
  }
 ],
 "metadata": {
  "kernelspec": {
   "display_name": "Python 3",
   "language": "python",
   "name": "python3"
  },
  "language_info": {
   "codemirror_mode": {
    "name": "ipython",
    "version": 3
   },
   "file_extension": ".py",
   "mimetype": "text/x-python",
   "name": "python",
   "nbconvert_exporter": "python",
   "pygments_lexer": "ipython3",
   "version": "3.9.2"
  }
 },
 "nbformat": 4,
 "nbformat_minor": 5
}
